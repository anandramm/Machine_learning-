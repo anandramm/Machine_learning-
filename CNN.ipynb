{
  "nbformat": 4,
  "nbformat_minor": 0,
  "metadata": {
    "colab": {
      "name": "CNN.ipynb",
      "provenance": [],
      "collapsed_sections": [],
      "authorship_tag": "ABX9TyMm3/G/hXwuz25yt9ljC7lt",
      "include_colab_link": true
    },
    "kernelspec": {
      "name": "python3",
      "display_name": "Python 3"
    }
  },
  "cells": [
    {
      "cell_type": "markdown",
      "metadata": {
        "id": "view-in-github",
        "colab_type": "text"
      },
      "source": [
        "<a href=\"https://colab.research.google.com/github/anandramm/Machine_learning-/blob/master/CNN.ipynb\" target=\"_parent\"><img src=\"https://colab.research.google.com/assets/colab-badge.svg\" alt=\"Open In Colab\"/></a>"
      ]
    },
    {
      "cell_type": "markdown",
      "metadata": {
        "id": "56IF0deKhf36"
      },
      "source": [
        "Importing The Data Pre=Processing Libraries"
      ]
    },
    {
      "cell_type": "code",
      "metadata": {
        "id": "BayRIhA0fhqN"
      },
      "source": [
        "import pandas as pd\r\n",
        "import numpy as np\r\n",
        "import matplotlib.pyplot as plt\r\n",
        "import seaborn as sns"
      ],
      "execution_count": 2,
      "outputs": []
    },
    {
      "cell_type": "markdown",
      "metadata": {
        "id": "0pk6aK_UiFxk"
      },
      "source": [
        "Loading in the MNIST dataset"
      ]
    },
    {
      "cell_type": "code",
      "metadata": {
        "id": "RzNni3gPiExn"
      },
      "source": [
        "from tensorflow.keras.datasets import mnist"
      ],
      "execution_count": 3,
      "outputs": []
    },
    {
      "cell_type": "code",
      "metadata": {
        "colab": {
          "base_uri": "https://localhost:8080/"
        },
        "id": "kVHMs65miUcC",
        "outputId": "26c9c1e4-a488-44ef-eb8a-d17933f1be1c"
      },
      "source": [
        "(X_train,y_train),(X_test,y_test)=mnist.load_data()"
      ],
      "execution_count": 4,
      "outputs": [
        {
          "output_type": "stream",
          "text": [
            "Downloading data from https://storage.googleapis.com/tensorflow/tf-keras-datasets/mnist.npz\n",
            "11493376/11490434 [==============================] - 0s 0us/step\n"
          ],
          "name": "stdout"
        }
      ]
    },
    {
      "cell_type": "code",
      "metadata": {
        "id": "ZfJBXf4JkRKF"
      },
      "source": [
        "single_image=X_train[1]"
      ],
      "execution_count": 5,
      "outputs": []
    },
    {
      "cell_type": "code",
      "metadata": {
        "colab": {
          "base_uri": "https://localhost:8080/"
        },
        "id": "ldgnIhVskVUk",
        "outputId": "f6c45004-b6cf-49ec-b950-f1d549046b0c"
      },
      "source": [
        "single_image.shape"
      ],
      "execution_count": 6,
      "outputs": [
        {
          "output_type": "execute_result",
          "data": {
            "text/plain": [
              "(28, 28)"
            ]
          },
          "metadata": {
            "tags": []
          },
          "execution_count": 6
        }
      ]
    },
    {
      "cell_type": "markdown",
      "metadata": {
        "id": "SE6J62IHkmtO"
      },
      "source": [
        "Visulaizing Data"
      ]
    },
    {
      "cell_type": "code",
      "metadata": {
        "colab": {
          "base_uri": "https://localhost:8080/",
          "height": 282
        },
        "id": "tQFLYFzakkUN",
        "outputId": "f9ea526e-e38b-4a24-9243-104af71a4a06"
      },
      "source": [
        "plt.imshow(single_image)"
      ],
      "execution_count": 7,
      "outputs": [
        {
          "output_type": "execute_result",
          "data": {
            "text/plain": [
              "<matplotlib.image.AxesImage at 0x7f9881e2f6d8>"
            ]
          },
          "metadata": {
            "tags": []
          },
          "execution_count": 7
        },
        {
          "output_type": "display_data",
          "data": {
            "image/png": "[encoded data removed]",
            "text/plain": [
              "<Figure size 432x288 with 1 Axes>"
            ]
          },
          "metadata": {
            "tags": [],
            "needs_background": "light"
          }
        }
      ]
    },
    {
      "cell_type": "markdown",
      "metadata": {
        "id": "pwvGdrP7oN2u"
      },
      "source": [
        "As this is a Classification Problem, we need to change the Target Variable into a Categorical Data "
      ]
    },
    {
      "cell_type": "code",
      "metadata": {
        "id": "RAjlHxSzlx_n"
      },
      "source": [
        "from tensorflow.keras.utils import to_categorical"
      ],
      "execution_count": 8,
      "outputs": []
    },
    {
      "cell_type": "code",
      "metadata": {
        "id": "FOGjn2ZcogWE"
      },
      "source": [
        "y_train_cat=to_categorical(y_train,num_classes=10)\r\n",
        "y_test_cat=to_categorical(y_test,num_classes=10)"
      ],
      "execution_count": 9,
      "outputs": []
    },
    {
      "cell_type": "code",
      "metadata": {
        "colab": {
          "base_uri": "https://localhost:8080/",
          "height": 282
        },
        "id": "2KJVYOhBo2Xn",
        "outputId": "08523c5f-1bc5-4352-b3d8-241e5272e32d"
      },
      "source": [
        "X_train=X_train/255\r\n",
        "plt.imshow(X_train[0])"
      ],
      "execution_count": 10,
      "outputs": [
        {
          "output_type": "execute_result",
          "data": {
            "text/plain": [
              "<matplotlib.image.AxesImage at 0x7f984f644a90>"
            ]
          },
          "metadata": {
            "tags": []
          },
          "execution_count": 10
        },
        {
          "output_type": "display_data",
          "data": {
            "image/png": "[encoded data removed]",
            "text/plain": [
              "<Figure size 432x288 with 1 Axes>"
            ]
          },
          "metadata": {
            "tags": [],
            "needs_background": "light"
          }
        }
      ]
    },
    {
      "cell_type": "code",
      "metadata": {
        "id": "uv83eLX-pAvq"
      },
      "source": [
        "X_test=X_test/255"
      ],
      "execution_count": 11,
      "outputs": []
    },
    {
      "cell_type": "markdown",
      "metadata": {
        "id": "WaSjT6PdpN2D"
      },
      "source": [
        "Pre-Processing The Data to introduce the Dimensionality to Scales"
      ]
    },
    {
      "cell_type": "code",
      "metadata": {
        "id": "X2cdsC9Dp_Rb"
      },
      "source": [
        "X_train.shape\r\n",
        "X_train=X_train.reshape(60000,28,28,1)"
      ],
      "execution_count": 12,
      "outputs": []
    },
    {
      "cell_type": "code",
      "metadata": {
        "id": "S2dXGi_xqKTB"
      },
      "source": [
        "X_test.shape\r\n",
        "X_test=X_test.reshape(10000,28,28,1)"
      ],
      "execution_count": 13,
      "outputs": []
    },
    {
      "cell_type": "code",
      "metadata": {
        "id": "fmQtPskqJ3g7"
      },
      "source": [
        "from tensorflow.keras.models import Sequential\r\n",
        "from tensorflow.keras.layers import Dense,Conv2D,MaxPool2D,Flatten"
      ],
      "execution_count": 14,
      "outputs": []
    },
    {
      "cell_type": "code",
      "metadata": {
        "id": "2HcDJ6oALKpV"
      },
      "source": [
        "model=Sequential()\r\n",
        "\r\n",
        "model.add(Conv2D(filters=32,kernel_size=(2,2),padding='valid',input_shape=(28,28,1),activation='relu'))\r\n",
        "model.add(MaxPool2D(pool_size=(2,2)))\r\n",
        "model.add(Flatten())\r\n",
        "#The FLatten model is being fed into Dense Layer Network\r\n",
        "model.add(Dense(128,activation='relu'))\r\n",
        "#Output Layer\r\n",
        "model.add(Dense(10,activation='softmax'))"
      ],
      "execution_count": 15,
      "outputs": []
    },
    {
      "cell_type": "code",
      "metadata": {
        "id": "NOK_qC7mMXEk"
      },
      "source": [
        "model.compile(loss='categorical_crossentropy',optimizer='adam',metrics=['accuracy'])"
      ],
      "execution_count": 17,
      "outputs": []
    },
    {
      "cell_type": "code",
      "metadata": {
        "id": "mhTIi1UgM5N_"
      },
      "source": [
        "from tensorflow.keras.callbacks import EarlyStopping\r\n",
        "early_stop=EarlyStopping(monitor='val_loss',patience=3)"
      ],
      "execution_count": 18,
      "outputs": []
    },
    {
      "cell_type": "code",
      "metadata": {
        "colab": {
          "base_uri": "https://localhost:8080/"
        },
        "id": "kqznk8vaNcuf",
        "outputId": "18b3739f-41dc-48db-c05f-3e22b2b1d6f6"
      },
      "source": [
        "model.fit(X_train,y_train_cat,epochs=50,validation_data=(X_test,y_test_cat),callbacks=[early_stop])"
      ],
      "execution_count": 23,
      "outputs": [
        {
          "output_type": "stream",
          "text": [
            "Epoch 1/50\n",
            "1875/1875 [==============================] - 30s 15ms/step - loss: 0.3539 - accuracy: 0.8905 - val_loss: 0.0893 - val_accuracy: 0.9724\n",
            "Epoch 2/50\n",
            "1875/1875 [==============================] - 28s 15ms/step - loss: 0.0746 - accuracy: 0.9786 - val_loss: 0.0675 - val_accuracy: 0.9780\n",
            "Epoch 3/50\n",
            "1875/1875 [==============================] - 28s 15ms/step - loss: 0.0412 - accuracy: 0.9876 - val_loss: 0.0538 - val_accuracy: 0.9828\n",
            "Epoch 4/50\n",
            "1875/1875 [==============================] - 29s 15ms/step - loss: 0.0280 - accuracy: 0.9912 - val_loss: 0.0487 - val_accuracy: 0.9837\n",
            "Epoch 5/50\n",
            "1875/1875 [==============================] - 28s 15ms/step - loss: 0.0178 - accuracy: 0.9948 - val_loss: 0.0530 - val_accuracy: 0.9834\n",
            "Epoch 6/50\n",
            "1875/1875 [==============================] - 29s 15ms/step - loss: 0.0119 - accuracy: 0.9968 - val_loss: 0.0598 - val_accuracy: 0.9816\n",
            "Epoch 7/50\n",
            "1875/1875 [==============================] - 28s 15ms/step - loss: 0.0109 - accuracy: 0.9964 - val_loss: 0.0566 - val_accuracy: 0.9846\n"
          ],
          "name": "stdout"
        },
        {
          "output_type": "execute_result",
          "data": {
            "text/plain": [
              "<tensorflow.python.keras.callbacks.History at 0x7f98445e99e8>"
            ]
          },
          "metadata": {
            "tags": []
          },
          "execution_count": 23
        }
      ]
    },
    {
      "cell_type": "code",
      "metadata": {
        "colab": {
          "base_uri": "https://localhost:8080/",
          "height": 266
        },
        "id": "2R2E2jDcPdQ8",
        "outputId": "6205ced2-fc0a-436d-b3bc-0e43ead7ae6c"
      },
      "source": [
        "loss=pd.DataFrame(model.history.history)\r\n",
        "loss"
      ],
      "execution_count": 25,
      "outputs": [
        {
          "output_type": "execute_result",
          "data": {
            "text/html": [
              "<div>\n",
              "<style scoped>\n",
              "    .dataframe tbody tr th:only-of-type {\n",
              "        vertical-align: middle;\n",
              "    }\n",
              "\n",
              "    .dataframe tbody tr th {\n",
              "        vertical-align: top;\n",
              "    }\n",
              "\n",
              "    .dataframe thead th {\n",
              "        text-align: right;\n",
              "    }\n",
              "</style>\n",
              "<table border=\"1\" class=\"dataframe\">\n",
              "  <thead>\n",
              "    <tr style=\"text-align: right;\">\n",
              "      <th></th>\n",
              "      <th>loss</th>\n",
              "      <th>accuracy</th>\n",
              "      <th>val_loss</th>\n",
              "      <th>val_accuracy</th>\n",
              "    </tr>\n",
              "  </thead>\n",
              "  <tbody>\n",
              "    <tr>\n",
              "      <th>0</th>\n",
              "      <td>0.201202</td>\n",
              "      <td>0.939233</td>\n",
              "      <td>0.089337</td>\n",
              "      <td>0.9724</td>\n",
              "    </tr>\n",
              "    <tr>\n",
              "      <th>1</th>\n",
              "      <td>0.069085</td>\n",
              "      <td>0.979417</td>\n",
              "      <td>0.067461</td>\n",
              "      <td>0.9780</td>\n",
              "    </tr>\n",
              "    <tr>\n",
              "      <th>2</th>\n",
              "      <td>0.043658</td>\n",
              "      <td>0.986650</td>\n",
              "      <td>0.053809</td>\n",
              "      <td>0.9828</td>\n",
              "    </tr>\n",
              "    <tr>\n",
              "      <th>3</th>\n",
              "      <td>0.030946</td>\n",
              "      <td>0.990217</td>\n",
              "      <td>0.048668</td>\n",
              "      <td>0.9837</td>\n",
              "    </tr>\n",
              "    <tr>\n",
              "      <th>4</th>\n",
              "      <td>0.020698</td>\n",
              "      <td>0.993717</td>\n",
              "      <td>0.052954</td>\n",
              "      <td>0.9834</td>\n",
              "    </tr>\n",
              "    <tr>\n",
              "      <th>5</th>\n",
              "      <td>0.015337</td>\n",
              "      <td>0.995217</td>\n",
              "      <td>0.059798</td>\n",
              "      <td>0.9816</td>\n",
              "    </tr>\n",
              "    <tr>\n",
              "      <th>6</th>\n",
              "      <td>0.011923</td>\n",
              "      <td>0.996050</td>\n",
              "      <td>0.056566</td>\n",
              "      <td>0.9846</td>\n",
              "    </tr>\n",
              "  </tbody>\n",
              "</table>\n",
              "</div>"
            ],
            "text/plain": [
              "       loss  accuracy  val_loss  val_accuracy\n",
              "0  0.201202  0.939233  0.089337        0.9724\n",
              "1  0.069085  0.979417  0.067461        0.9780\n",
              "2  0.043658  0.986650  0.053809        0.9828\n",
              "3  0.030946  0.990217  0.048668        0.9837\n",
              "4  0.020698  0.993717  0.052954        0.9834\n",
              "5  0.015337  0.995217  0.059798        0.9816\n",
              "6  0.011923  0.996050  0.056566        0.9846"
            ]
          },
          "metadata": {
            "tags": []
          },
          "execution_count": 25
        }
      ]
    },
    {
      "cell_type": "code",
      "metadata": {
        "colab": {
          "base_uri": "https://localhost:8080/",
          "height": 282
        },
        "id": "gSUwqnfJRx0F",
        "outputId": "a7838687-52b7-489b-edaa-a9192af0595a"
      },
      "source": [
        "loss[['loss','accuracy']].plot()"
      ],
      "execution_count": 31,
      "outputs": [
        {
          "output_type": "execute_result",
          "data": {
            "text/plain": [
              "<matplotlib.axes._subplots.AxesSubplot at 0x7f98407a9d30>"
            ]
          },
          "metadata": {
            "tags": []
          },
          "execution_count": 31
        },
        {
          "output_type": "display_data",
          "data": {
            "image/png": "[encoded data removed]",
            "text/plain": [
              "<Figure size 432x288 with 1 Axes>"
            ]
          },
          "metadata": {
            "tags": [],
            "needs_background": "light"
          }
        }
      ]
    },
    {
      "cell_type": "code",
      "metadata": {
        "colab": {
          "base_uri": "https://localhost:8080/"
        },
        "id": "LzZHPggwSWFl",
        "outputId": "1f92c837-a6cd-46da-bc3e-65120a5c1f5f"
      },
      "source": [
        "from sklearn.metrics import classification_report\r\n",
        "predictions=model.predict_classes(X_test)"
      ],
      "execution_count": 38,
      "outputs": [
        {
          "output_type": "stream",
          "text": [
            "/usr/local/lib/python3.6/dist-packages/tensorflow/python/keras/engine/sequential.py:450: UserWarning: `model.predict_classes()` is deprecated and will be removed after 2021-01-01. Please use instead:* `np.argmax(model.predict(x), axis=-1)`,   if your model does multi-class classification   (e.g. if it uses a `softmax` last-layer activation).* `(model.predict(x) > 0.5).astype(\"int32\")`,   if your model does binary classification   (e.g. if it uses a `sigmoid` last-layer activation).\n",
            "  warnings.warn('`model.predict_classes()` is deprecated and '\n"
          ],
          "name": "stderr"
        }
      ]
    },
    {
      "cell_type": "code",
      "metadata": {
        "colab": {
          "base_uri": "https://localhost:8080/"
        },
        "id": "2B4NzjylSyqT",
        "outputId": "0cc97ee9-bf23-455a-b6a5-894d3d303922"
      },
      "source": [
        "print(classification_report(y_test,predictions))"
      ],
      "execution_count": 40,
      "outputs": [
        {
          "output_type": "stream",
          "text": [
            "              precision    recall  f1-score   support\n",
            "\n",
            "           0       0.98      1.00      0.99       980\n",
            "           1       0.99      0.99      0.99      1135\n",
            "           2       0.99      0.98      0.98      1032\n",
            "           3       0.98      0.99      0.99      1010\n",
            "           4       0.98      0.99      0.99       982\n",
            "           5       0.99      0.98      0.99       892\n",
            "           6       0.99      0.98      0.98       958\n",
            "           7       0.98      0.98      0.98      1028\n",
            "           8       0.99      0.98      0.98       974\n",
            "           9       0.98      0.97      0.98      1009\n",
            "\n",
            "    accuracy                           0.98     10000\n",
            "   macro avg       0.98      0.98      0.98     10000\n",
            "weighted avg       0.98      0.98      0.98     10000\n",
            "\n"
          ],
          "name": "stdout"
        }
      ]
    },
    {
      "cell_type": "code",
      "metadata": {
        "id": "M0yPFDtSTtEk"
      },
      "source": [
        ""
      ],
      "execution_count": null,
      "outputs": []
    }
  ]
}