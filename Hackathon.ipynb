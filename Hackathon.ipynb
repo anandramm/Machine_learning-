{
  "nbformat": 4,
  "nbformat_minor": 0,
  "metadata": {
    "colab": {
      "name": "Hackathon.ipynb",
      "provenance": [],
      "collapsed_sections": [],
      "authorship_tag": "ABX9TyO//89/O1BpbvspNY91CRsj",
      "include_colab_link": true
    },
    "kernelspec": {
      "name": "python3",
      "display_name": "Python 3"
    }
  },
  "cells": [
    {
      "cell_type": "markdown",
      "metadata": {
        "id": "view-in-github",
        "colab_type": "text"
      },
      "source": [
        "<a href=\"https://colab.research.google.com/github/anandramm/Machine_learning-/blob/master/Hackathon.ipynb\" target=\"_parent\"><img src=\"https://colab.research.google.com/assets/colab-badge.svg\" alt=\"Open In Colab\"/></a>"
      ]
    },
    {
      "cell_type": "code",
      "metadata": {
        "id": "IazWoadk_FdO"
      },
      "source": [
        "import pandas as pd\r\n",
        "import numpy as np\r\n",
        "import matplotlib.pyplot as plt\r\n",
        "import seaborn as sns"
      ],
      "execution_count": 81,
      "outputs": []
    },
    {
      "cell_type": "code",
      "metadata": {
        "id": "JYjX-CqvEWWx"
      },
      "source": [
        "train_df=pd.read_csv('/content/Train.csv')\r\n",
        "test_df=pd.read_csv('/content/Test.csv')"
      ],
      "execution_count": 82,
      "outputs": []
    },
    {
      "cell_type": "code",
      "metadata": {
        "colab": {
          "base_uri": "https://localhost:8080/"
        },
        "id": "2QpJH5QrEhBW",
        "outputId": "e57e664b-5ea6-4f05-a1e3-d1e27a63b48b"
      },
      "source": [
        "train_df.isna().sum()"
      ],
      "execution_count": null,
      "outputs": [
        {
          "output_type": "execute_result",
          "data": {
            "text/plain": [
              "session_id          0\n",
              "session_number      0\n",
              "client_agent      160\n",
              "device_details      0\n",
              "date                0\n",
              "purchased           0\n",
              "added_in_cart       0\n",
              "checked_out         0\n",
              "time_spent          0\n",
              "dtype: int64"
            ]
          },
          "metadata": {
            "tags": []
          },
          "execution_count": 3
        }
      ]
    },
    {
      "cell_type": "code",
      "metadata": {
        "colab": {
          "base_uri": "https://localhost:8080/"
        },
        "id": "RhkYWLy5FBHN",
        "outputId": "ae17684f-b572-45d5-84da-2c2ac8fab3df"
      },
      "source": [
        "#train_df.drop(['client_agent'],axis=1,inplace=True)\r\n",
        "#train_df.corr()\r\n",
        "train_df['session_number'].unique().sum()"
      ],
      "execution_count": 89,
      "outputs": [
        {
          "output_type": "execute_result",
          "data": {
            "text/plain": [
              "2152898"
            ]
          },
          "metadata": {
            "tags": []
          },
          "execution_count": 89
        }
      ]
    },
    {
      "cell_type": "code",
      "metadata": {
        "colab": {
          "base_uri": "https://localhost:8080/",
          "height": 450
        },
        "id": "O4_t-KucGLkZ",
        "outputId": "77d69b54-29a9-4cfe-8e7a-24fdeaef1b56"
      },
      "source": [
        "train_df.head()\r\n",
        "train_df.set_index('session_id')"
      ],
      "execution_count": null,
      "outputs": [
        {
          "output_type": "execute_result",
          "data": {
            "text/html": [
              "<div>\n",
              "<style scoped>\n",
              "    .dataframe tbody tr th:only-of-type {\n",
              "        vertical-align: middle;\n",
              "    }\n",
              "\n",
              "    .dataframe tbody tr th {\n",
              "        vertical-align: top;\n",
              "    }\n",
              "\n",
              "    .dataframe thead th {\n",
              "        text-align: right;\n",
              "    }\n",
              "</style>\n",
              "<table border=\"1\" class=\"dataframe\">\n",
              "  <thead>\n",
              "    <tr style=\"text-align: right;\">\n",
              "      <th></th>\n",
              "      <th>device_details</th>\n",
              "      <th>date</th>\n",
              "      <th>purchased</th>\n",
              "      <th>added_in_cart</th>\n",
              "      <th>checked_out</th>\n",
              "      <th>time_spent</th>\n",
              "    </tr>\n",
              "    <tr>\n",
              "      <th>session_id</th>\n",
              "      <th></th>\n",
              "      <th></th>\n",
              "      <th></th>\n",
              "      <th></th>\n",
              "      <th></th>\n",
              "      <th></th>\n",
              "    </tr>\n",
              "  </thead>\n",
              "  <tbody>\n",
              "    <tr>\n",
              "      <th>57f879e70d3c5fc2a98102d64c9fd84e</th>\n",
              "      <td>Desktop - Chrome</td>\n",
              "      <td>2020-01-22</td>\n",
              "      <td>1</td>\n",
              "      <td>0</td>\n",
              "      <td>0</td>\n",
              "      <td>236.886</td>\n",
              "    </tr>\n",
              "    <tr>\n",
              "      <th>a5442b0c7c33d0a811e7661e556b2de8</th>\n",
              "      <td>iPhone - iOS</td>\n",
              "      <td>2020-02-27</td>\n",
              "      <td>1</td>\n",
              "      <td>0</td>\n",
              "      <td>0</td>\n",
              "      <td>1277.455</td>\n",
              "    </tr>\n",
              "    <tr>\n",
              "      <th>305cb1486ed8610c00b37007926cb2c4</th>\n",
              "      <td>iPhone - MobileWeb</td>\n",
              "      <td>2019-08-01</td>\n",
              "      <td>0</td>\n",
              "      <td>0</td>\n",
              "      <td>0</td>\n",
              "      <td>21.704</td>\n",
              "    </tr>\n",
              "    <tr>\n",
              "      <th>f2c1ecc9993f0071df91ba178450498c</th>\n",
              "      <td>Desktop - IE</td>\n",
              "      <td>2019-12-30</td>\n",
              "      <td>0</td>\n",
              "      <td>1</td>\n",
              "      <td>0</td>\n",
              "      <td>455.201</td>\n",
              "    </tr>\n",
              "    <tr>\n",
              "      <th>e460830ae295e55d2216ebdc761ab9a6</th>\n",
              "      <td>iPhone - Web</td>\n",
              "      <td>2019-09-10</td>\n",
              "      <td>0</td>\n",
              "      <td>0</td>\n",
              "      <td>0</td>\n",
              "      <td>1164.877</td>\n",
              "    </tr>\n",
              "    <tr>\n",
              "      <th>...</th>\n",
              "      <td>...</td>\n",
              "      <td>...</td>\n",
              "      <td>...</td>\n",
              "      <td>...</td>\n",
              "      <td>...</td>\n",
              "      <td>...</td>\n",
              "    </tr>\n",
              "    <tr>\n",
              "      <th>b6aa30da97fa3c95989c47ccf5ab4e9f</th>\n",
              "      <td>iPhone - Web</td>\n",
              "      <td>2019-11-20</td>\n",
              "      <td>0</td>\n",
              "      <td>0</td>\n",
              "      <td>0</td>\n",
              "      <td>20.601</td>\n",
              "    </tr>\n",
              "    <tr>\n",
              "      <th>58b62e9fa867d622662b8a4096fdc3f0</th>\n",
              "      <td>iPhone - iOS</td>\n",
              "      <td>2019-09-26</td>\n",
              "      <td>0</td>\n",
              "      <td>0</td>\n",
              "      <td>0</td>\n",
              "      <td>1537.666</td>\n",
              "    </tr>\n",
              "    <tr>\n",
              "      <th>109f7f9b8384e46fc88f580b328298e8</th>\n",
              "      <td>Desktop - Chrome</td>\n",
              "      <td>2019-08-13</td>\n",
              "      <td>0</td>\n",
              "      <td>0</td>\n",
              "      <td>0</td>\n",
              "      <td>22.711</td>\n",
              "    </tr>\n",
              "    <tr>\n",
              "      <th>ac6579972e89dfc78d3ee95d15764681</th>\n",
              "      <td>Unknown - MobileWeb</td>\n",
              "      <td>2019-06-18</td>\n",
              "      <td>0</td>\n",
              "      <td>0</td>\n",
              "      <td>0</td>\n",
              "      <td>20.844</td>\n",
              "    </tr>\n",
              "    <tr>\n",
              "      <th>bd8f8239b827fc29d4e1bec91bd499b7</th>\n",
              "      <td>iPhone - Web</td>\n",
              "      <td>2019-10-21</td>\n",
              "      <td>0</td>\n",
              "      <td>0</td>\n",
              "      <td>0</td>\n",
              "      <td>20.504</td>\n",
              "    </tr>\n",
              "  </tbody>\n",
              "</table>\n",
              "<p>5429 rows × 6 columns</p>\n",
              "</div>"
            ],
            "text/plain": [
              "                                       device_details  ... time_spent\n",
              "session_id                                             ...           \n",
              "57f879e70d3c5fc2a98102d64c9fd84e     Desktop - Chrome  ...    236.886\n",
              "a5442b0c7c33d0a811e7661e556b2de8         iPhone - iOS  ...   1277.455\n",
              "305cb1486ed8610c00b37007926cb2c4   iPhone - MobileWeb  ...     21.704\n",
              "f2c1ecc9993f0071df91ba178450498c         Desktop - IE  ...    455.201\n",
              "e460830ae295e55d2216ebdc761ab9a6         iPhone - Web  ...   1164.877\n",
              "...                                               ...  ...        ...\n",
              "b6aa30da97fa3c95989c47ccf5ab4e9f         iPhone - Web  ...     20.601\n",
              "58b62e9fa867d622662b8a4096fdc3f0         iPhone - iOS  ...   1537.666\n",
              "109f7f9b8384e46fc88f580b328298e8     Desktop - Chrome  ...     22.711\n",
              "ac6579972e89dfc78d3ee95d15764681  Unknown - MobileWeb  ...     20.844\n",
              "bd8f8239b827fc29d4e1bec91bd499b7         iPhone - Web  ...     20.504\n",
              "\n",
              "[5429 rows x 6 columns]"
            ]
          },
          "metadata": {
            "tags": []
          },
          "execution_count": 5
        }
      ]
    },
    {
      "cell_type": "code",
      "metadata": {
        "colab": {
          "base_uri": "https://localhost:8080/"
        },
        "id": "5buDAZqeGoSs",
        "outputId": "115d624f-3851-4989-d8d3-b8486fb7c9fc"
      },
      "source": [
        "#train_df['date']=pd.to_datetime(train_df['date'])\r\n",
        "train_df.head()\r\n",
        "train_df['device_details'].unique()"
      ],
      "execution_count": 24,
      "outputs": [
        {
          "output_type": "execute_result",
          "data": {
            "text/plain": [
              "array(['Desktop - Chrome', 'iPhone - iOS', 'iPhone - MobileWeb',\n",
              "       'Desktop - IE', 'iPhone - Web', 'Android Phone - Android',\n",
              "       'Desktop - Firefox', 'Android Tablet - Web', 'iPad - Web',\n",
              "       'Other - Other', 'Desktop - Safari', 'Android Phone - Web',\n",
              "       'iPad - iOS', 'Android Phone - MobileWeb', 'Unknown - MobileWeb',\n",
              "       'Android Tablet - Android', 'Android Tablet - MobileWeb'],\n",
              "      dtype=object)"
            ]
          },
          "metadata": {
            "tags": []
          },
          "execution_count": 24
        }
      ]
    },
    {
      "cell_type": "code",
      "metadata": {
        "id": "DqGdPlWDHEOu"
      },
      "source": [
        "train_df['year']=train_df['date'].apply(lambda date:date.year)\r\n",
        "train_df['month']=train_df['date'].apply(lambda date:date.month)"
      ],
      "execution_count": null,
      "outputs": []
    },
    {
      "cell_type": "code",
      "metadata": {
        "colab": {
          "base_uri": "https://localhost:8080/",
          "height": 309
        },
        "id": "PEz0mmc2HXBI",
        "outputId": "49d2ecb9-749d-4f45-d8e9-2f35265dbe99"
      },
      "source": [
        "train_df.head()"
      ],
      "execution_count": null,
      "outputs": [
        {
          "output_type": "execute_result",
          "data": {
            "text/html": [
              "<div>\n",
              "<style scoped>\n",
              "    .dataframe tbody tr th:only-of-type {\n",
              "        vertical-align: middle;\n",
              "    }\n",
              "\n",
              "    .dataframe tbody tr th {\n",
              "        vertical-align: top;\n",
              "    }\n",
              "\n",
              "    .dataframe thead th {\n",
              "        text-align: right;\n",
              "    }\n",
              "</style>\n",
              "<table border=\"1\" class=\"dataframe\">\n",
              "  <thead>\n",
              "    <tr style=\"text-align: right;\">\n",
              "      <th></th>\n",
              "      <th>session_id</th>\n",
              "      <th>device_details</th>\n",
              "      <th>date</th>\n",
              "      <th>purchased</th>\n",
              "      <th>added_in_cart</th>\n",
              "      <th>checked_out</th>\n",
              "      <th>time_spent</th>\n",
              "      <th>year</th>\n",
              "      <th>month</th>\n",
              "    </tr>\n",
              "  </thead>\n",
              "  <tbody>\n",
              "    <tr>\n",
              "      <th>0</th>\n",
              "      <td>57f879e70d3c5fc2a98102d64c9fd84e</td>\n",
              "      <td>Desktop - Chrome</td>\n",
              "      <td>2020-01-22</td>\n",
              "      <td>1</td>\n",
              "      <td>0</td>\n",
              "      <td>0</td>\n",
              "      <td>236.886</td>\n",
              "      <td>2020</td>\n",
              "      <td>1</td>\n",
              "    </tr>\n",
              "    <tr>\n",
              "      <th>1</th>\n",
              "      <td>a5442b0c7c33d0a811e7661e556b2de8</td>\n",
              "      <td>iPhone - iOS</td>\n",
              "      <td>2020-02-27</td>\n",
              "      <td>1</td>\n",
              "      <td>0</td>\n",
              "      <td>0</td>\n",
              "      <td>1277.455</td>\n",
              "      <td>2020</td>\n",
              "      <td>2</td>\n",
              "    </tr>\n",
              "    <tr>\n",
              "      <th>2</th>\n",
              "      <td>305cb1486ed8610c00b37007926cb2c4</td>\n",
              "      <td>iPhone - MobileWeb</td>\n",
              "      <td>2019-08-01</td>\n",
              "      <td>0</td>\n",
              "      <td>0</td>\n",
              "      <td>0</td>\n",
              "      <td>21.704</td>\n",
              "      <td>2019</td>\n",
              "      <td>8</td>\n",
              "    </tr>\n",
              "    <tr>\n",
              "      <th>3</th>\n",
              "      <td>f2c1ecc9993f0071df91ba178450498c</td>\n",
              "      <td>Desktop - IE</td>\n",
              "      <td>2019-12-30</td>\n",
              "      <td>0</td>\n",
              "      <td>1</td>\n",
              "      <td>0</td>\n",
              "      <td>455.201</td>\n",
              "      <td>2019</td>\n",
              "      <td>12</td>\n",
              "    </tr>\n",
              "    <tr>\n",
              "      <th>4</th>\n",
              "      <td>e460830ae295e55d2216ebdc761ab9a6</td>\n",
              "      <td>iPhone - Web</td>\n",
              "      <td>2019-09-10</td>\n",
              "      <td>0</td>\n",
              "      <td>0</td>\n",
              "      <td>0</td>\n",
              "      <td>1164.877</td>\n",
              "      <td>2019</td>\n",
              "      <td>9</td>\n",
              "    </tr>\n",
              "  </tbody>\n",
              "</table>\n",
              "</div>"
            ],
            "text/plain": [
              "                         session_id      device_details  ...  year  month\n",
              "0  57f879e70d3c5fc2a98102d64c9fd84e    Desktop - Chrome  ...  2020      1\n",
              "1  a5442b0c7c33d0a811e7661e556b2de8        iPhone - iOS  ...  2020      2\n",
              "2  305cb1486ed8610c00b37007926cb2c4  iPhone - MobileWeb  ...  2019      8\n",
              "3  f2c1ecc9993f0071df91ba178450498c        Desktop - IE  ...  2019     12\n",
              "4  e460830ae295e55d2216ebdc761ab9a6        iPhone - Web  ...  2019      9\n",
              "\n",
              "[5 rows x 9 columns]"
            ]
          },
          "metadata": {
            "tags": []
          },
          "execution_count": 8
        }
      ]
    },
    {
      "cell_type": "code",
      "metadata": {
        "id": "6waDTYNJHeUq"
      },
      "source": [
        "train_df.drop('date',axis=1,inplace=True)"
      ],
      "execution_count": null,
      "outputs": []
    },
    {
      "cell_type": "code",
      "metadata": {
        "colab": {
          "base_uri": "https://localhost:8080/",
          "height": 497
        },
        "id": "tLgPpEnQHoj9",
        "outputId": "fab12c15-54d4-4d1d-f121-9c0c610f478d"
      },
      "source": [
        "plt.figure(figsize=(30,15))\r\n",
        "sns.countplot(x=train_df['device_details'])"
      ],
      "execution_count": null,
      "outputs": [
        {
          "output_type": "execute_result",
          "data": {
            "text/plain": [
              "<matplotlib.axes._subplots.AxesSubplot at 0x7fe7e7adec18>"
            ]
          },
          "metadata": {
            "tags": []
          },
          "execution_count": 10
        },
        {
          "output_type": "display_data",
          "data": {
            "image/png": "[encoded data removed]",
            "text/plain": [
              "<Figure size 2160x1080 with 1 Axes>"
            ]
          },
          "metadata": {
            "tags": [],
            "needs_background": "light"
          }
        }
      ]
    },
    {
      "cell_type": "code",
      "metadata": {
        "id": "eDG6GcBiJSHy"
      },
      "source": [
        "X=train_df.drop(['time_spent','device_details','session_id'],axis=1).values\r\n",
        "y=train_df.time_spent.values"
      ],
      "execution_count": 53,
      "outputs": []
    },
    {
      "cell_type": "code",
      "metadata": {
        "id": "cAa2umntJuVK"
      },
      "source": [
        "from sklearn.model_selection import train_test_split        \r\n",
        "y = np.asarray(y).astype('float32')\r\n",
        "X = np.asarray(X).astype('float32')"
      ],
      "execution_count": 54,
      "outputs": []
    },
    {
      "cell_type": "code",
      "metadata": {
        "id": "2nO-zATLvd4F"
      },
      "source": [
        "X_train,X_test,y_train,y_test=train_test_split(X,y,random_state=101,test_size=0.3)"
      ],
      "execution_count": 55,
      "outputs": []
    },
    {
      "cell_type": "code",
      "metadata": {
        "id": "JReyAlSDxEL4"
      },
      "source": [
        "from tensorflow.keras.models import Sequential\r\n",
        "from tensorflow.keras.layers import Dense,Dropout\r\n",
        "from tensorflow.keras.callbacks import EarlyStopping"
      ],
      "execution_count": 56,
      "outputs": []
    },
    {
      "cell_type": "code",
      "metadata": {
        "id": "GqmpKCLqxQ0L"
      },
      "source": [
        "model=Sequential()\r\n",
        "model.add(Dense(6,activation='relu'))\r\n",
        "model.add(Dropout(0.5))\r\n",
        "model.add(Dense(6,activation='relu'))\r\n",
        "model.add(Dropout(0.5))\r\n",
        "model.add(Dense(6,activation='relu'))\r\n",
        "model.add(Dropout(0.5))\r\n",
        "\r\n",
        "model.add(Dense(1))\r\n",
        "model.compile(loss='mse',optimizer='adam')"
      ],
      "execution_count": 60,
      "outputs": []
    },
    {
      "cell_type": "code",
      "metadata": {
        "id": "d8q2Zienzv2p"
      },
      "source": [
        "early_stop=EarlyStopping(monitor='val_loss',mode='min',verbose=1,patience=25)"
      ],
      "execution_count": 61,
      "outputs": []
    },
    {
      "cell_type": "code",
      "metadata": {
        "colab": {
          "base_uri": "https://localhost:8080/"
        },
        "id": "D2rB9jwpzzK1",
        "outputId": "6d1b1387-f411-4509-fee4-c4506583ce45"
      },
      "source": [
        "model.fit(x=X_train,y=y_train,epochs=600,verbose=2,validation_data=(X_test,y_test),callbacks=[early_stop])"
      ],
      "execution_count": 63,
      "outputs": [
        {
          "output_type": "stream",
          "text": [
            "Epoch 1/600\n",
            "119/119 - 0s - loss: 3456881.7500 - val_loss: 2317250.0000\n",
            "Epoch 2/600\n",
            "119/119 - 0s - loss: 3475286.0000 - val_loss: 2320723.2500\n",
            "Epoch 3/600\n",
            "119/119 - 0s - loss: 3494341.5000 - val_loss: 2322762.7500\n",
            "Epoch 4/600\n",
            "119/119 - 0s - loss: 3476998.5000 - val_loss: 2318085.2500\n",
            "Epoch 5/600\n",
            "119/119 - 0s - loss: 3487353.0000 - val_loss: 2331308.5000\n",
            "Epoch 6/600\n",
            "119/119 - 0s - loss: 3473385.2500 - val_loss: 2327755.7500\n",
            "Epoch 7/600\n",
            "119/119 - 0s - loss: 3498767.0000 - val_loss: 2342546.5000\n",
            "Epoch 8/600\n",
            "119/119 - 0s - loss: 3523932.5000 - val_loss: 2353375.2500\n",
            "Epoch 9/600\n",
            "119/119 - 0s - loss: 3495539.7500 - val_loss: 2325344.5000\n",
            "Epoch 10/600\n",
            "119/119 - 0s - loss: 3455247.0000 - val_loss: 2342191.0000\n",
            "Epoch 11/600\n",
            "119/119 - 0s - loss: 3503411.5000 - val_loss: 2335785.0000\n",
            "Epoch 12/600\n",
            "119/119 - 0s - loss: 3488541.7500 - val_loss: 2325878.7500\n",
            "Epoch 13/600\n",
            "119/119 - 0s - loss: 3467412.0000 - val_loss: 2323550.2500\n",
            "Epoch 14/600\n",
            "119/119 - 0s - loss: 3472712.0000 - val_loss: 2320366.2500\n",
            "Epoch 15/600\n",
            "119/119 - 0s - loss: 3483737.7500 - val_loss: 2315000.0000\n",
            "Epoch 16/600\n",
            "119/119 - 0s - loss: 3460671.0000 - val_loss: 2303862.5000\n",
            "Epoch 17/600\n",
            "119/119 - 0s - loss: 3501990.5000 - val_loss: 2331949.5000\n",
            "Epoch 18/600\n",
            "119/119 - 0s - loss: 3460515.5000 - val_loss: 2305117.2500\n",
            "Epoch 19/600\n",
            "119/119 - 0s - loss: 3504773.7500 - val_loss: 2326574.0000\n",
            "Epoch 20/600\n",
            "119/119 - 0s - loss: 3496412.2500 - val_loss: 2335903.2500\n",
            "Epoch 21/600\n",
            "119/119 - 0s - loss: 3493580.7500 - val_loss: 2319941.5000\n",
            "Epoch 22/600\n",
            "119/119 - 0s - loss: 3479356.0000 - val_loss: 2304086.2500\n",
            "Epoch 23/600\n",
            "119/119 - 0s - loss: 3458106.5000 - val_loss: 2303051.7500\n",
            "Epoch 24/600\n",
            "119/119 - 0s - loss: 3493529.5000 - val_loss: 2326678.0000\n",
            "Epoch 25/600\n",
            "119/119 - 0s - loss: 3498369.2500 - val_loss: 2330978.7500\n",
            "Epoch 26/600\n",
            "119/119 - 0s - loss: 3464334.2500 - val_loss: 2308792.7500\n",
            "Epoch 27/600\n",
            "119/119 - 0s - loss: 3522269.5000 - val_loss: 2337910.2500\n",
            "Epoch 28/600\n",
            "119/119 - 0s - loss: 3505892.5000 - val_loss: 2326321.2500\n",
            "Epoch 29/600\n",
            "119/119 - 0s - loss: 3480777.5000 - val_loss: 2331623.5000\n",
            "Epoch 30/600\n",
            "119/119 - 0s - loss: 3497776.5000 - val_loss: 2324758.0000\n",
            "Epoch 31/600\n",
            "119/119 - 0s - loss: 3466675.0000 - val_loss: 2306383.7500\n",
            "Epoch 32/600\n",
            "119/119 - 0s - loss: 3457258.7500 - val_loss: 2311195.0000\n",
            "Epoch 33/600\n",
            "119/119 - 0s - loss: 3520519.5000 - val_loss: 2324561.5000\n",
            "Epoch 34/600\n",
            "119/119 - 0s - loss: 3455606.2500 - val_loss: 2315386.0000\n",
            "Epoch 35/600\n",
            "119/119 - 0s - loss: 3468630.0000 - val_loss: 2311825.5000\n",
            "Epoch 36/600\n",
            "119/119 - 0s - loss: 3466007.2500 - val_loss: 2311734.0000\n",
            "Epoch 37/600\n",
            "119/119 - 0s - loss: 3461918.2500 - val_loss: 2298649.0000\n",
            "Epoch 38/600\n",
            "119/119 - 0s - loss: 3479885.2500 - val_loss: 2315858.5000\n",
            "Epoch 39/600\n",
            "119/119 - 0s - loss: 3466489.7500 - val_loss: 2313069.0000\n",
            "Epoch 40/600\n",
            "119/119 - 0s - loss: 3475526.2500 - val_loss: 2315122.2500\n",
            "Epoch 41/600\n",
            "119/119 - 0s - loss: 3472840.0000 - val_loss: 2305354.2500\n",
            "Epoch 42/600\n",
            "119/119 - 0s - loss: 3466502.5000 - val_loss: 2297928.2500\n",
            "Epoch 43/600\n",
            "119/119 - 0s - loss: 3473542.0000 - val_loss: 2312250.5000\n",
            "Epoch 44/600\n",
            "119/119 - 0s - loss: 3485869.7500 - val_loss: 2330974.7500\n",
            "Epoch 45/600\n",
            "119/119 - 0s - loss: 3474791.2500 - val_loss: 2318496.2500\n",
            "Epoch 46/600\n",
            "119/119 - 0s - loss: 3472289.0000 - val_loss: 2321642.2500\n",
            "Epoch 47/600\n",
            "119/119 - 0s - loss: 3484461.0000 - val_loss: 2312039.2500\n",
            "Epoch 48/600\n",
            "119/119 - 0s - loss: 3459997.2500 - val_loss: 2304918.7500\n",
            "Epoch 49/600\n",
            "119/119 - 0s - loss: 3483682.2500 - val_loss: 2304439.0000\n",
            "Epoch 50/600\n",
            "119/119 - 0s - loss: 3467104.2500 - val_loss: 2308217.2500\n",
            "Epoch 51/600\n",
            "119/119 - 0s - loss: 3486556.5000 - val_loss: 2317471.0000\n",
            "Epoch 52/600\n",
            "119/119 - 0s - loss: 3474294.2500 - val_loss: 2311128.0000\n",
            "Epoch 53/600\n",
            "119/119 - 0s - loss: 3471211.7500 - val_loss: 2308664.5000\n",
            "Epoch 54/600\n",
            "119/119 - 0s - loss: 3477089.2500 - val_loss: 2316168.5000\n",
            "Epoch 55/600\n",
            "119/119 - 0s - loss: 3486148.7500 - val_loss: 2304006.2500\n",
            "Epoch 56/600\n",
            "119/119 - 0s - loss: 3464272.0000 - val_loss: 2312164.2500\n",
            "Epoch 57/600\n",
            "119/119 - 0s - loss: 3496058.0000 - val_loss: 2320262.2500\n",
            "Epoch 58/600\n",
            "119/119 - 0s - loss: 3456236.7500 - val_loss: 2299962.7500\n",
            "Epoch 59/600\n",
            "119/119 - 0s - loss: 3455768.5000 - val_loss: 2296742.5000\n",
            "Epoch 60/600\n",
            "119/119 - 0s - loss: 3443557.2500 - val_loss: 2298154.0000\n",
            "Epoch 61/600\n",
            "119/119 - 0s - loss: 3450728.2500 - val_loss: 2306063.2500\n",
            "Epoch 62/600\n",
            "119/119 - 0s - loss: 3466192.7500 - val_loss: 2306334.2500\n",
            "Epoch 63/600\n",
            "119/119 - 0s - loss: 3460347.0000 - val_loss: 2302878.7500\n",
            "Epoch 64/600\n",
            "119/119 - 0s - loss: 3464996.5000 - val_loss: 2326661.7500\n",
            "Epoch 65/600\n",
            "119/119 - 0s - loss: 3478320.0000 - val_loss: 2308202.0000\n",
            "Epoch 66/600\n",
            "119/119 - 0s - loss: 3426594.7500 - val_loss: 2290037.7500\n",
            "Epoch 67/600\n",
            "119/119 - 0s - loss: 3474181.0000 - val_loss: 2317975.2500\n",
            "Epoch 68/600\n",
            "119/119 - 0s - loss: 3437319.0000 - val_loss: 2304489.7500\n",
            "Epoch 69/600\n",
            "119/119 - 0s - loss: 3450214.2500 - val_loss: 2298243.2500\n",
            "Epoch 70/600\n",
            "119/119 - 0s - loss: 3463679.0000 - val_loss: 2299287.0000\n",
            "Epoch 71/600\n",
            "119/119 - 0s - loss: 3459451.2500 - val_loss: 2292433.2500\n",
            "Epoch 72/600\n",
            "119/119 - 0s - loss: 3465751.7500 - val_loss: 2299339.0000\n",
            "Epoch 73/600\n",
            "119/119 - 0s - loss: 3480959.0000 - val_loss: 2302334.2500\n",
            "Epoch 74/600\n",
            "119/119 - 0s - loss: 3447369.5000 - val_loss: 2307699.2500\n",
            "Epoch 75/600\n",
            "119/119 - 0s - loss: 3474051.2500 - val_loss: 2300374.7500\n",
            "Epoch 76/600\n",
            "119/119 - 0s - loss: 3476748.7500 - val_loss: 2305934.0000\n",
            "Epoch 77/600\n",
            "119/119 - 0s - loss: 3454549.0000 - val_loss: 2288207.0000\n",
            "Epoch 78/600\n",
            "119/119 - 0s - loss: 3464229.0000 - val_loss: 2282374.7500\n",
            "Epoch 79/600\n",
            "119/119 - 0s - loss: 3457707.0000 - val_loss: 2288703.7500\n",
            "Epoch 80/600\n",
            "119/119 - 0s - loss: 3458970.5000 - val_loss: 2285526.0000\n",
            "Epoch 81/600\n",
            "119/119 - 0s - loss: 3427376.2500 - val_loss: 2269215.5000\n",
            "Epoch 82/600\n",
            "119/119 - 0s - loss: 3434250.5000 - val_loss: 2283391.7500\n",
            "Epoch 83/600\n",
            "119/119 - 0s - loss: 3479340.2500 - val_loss: 2301090.2500\n",
            "Epoch 84/600\n",
            "119/119 - 0s - loss: 3478452.7500 - val_loss: 2289455.7500\n",
            "Epoch 85/600\n",
            "119/119 - 0s - loss: 3449628.0000 - val_loss: 2278563.5000\n",
            "Epoch 86/600\n",
            "119/119 - 0s - loss: 3417303.5000 - val_loss: 2280002.7500\n",
            "Epoch 87/600\n",
            "119/119 - 0s - loss: 3428243.7500 - val_loss: 2272325.0000\n",
            "Epoch 88/600\n",
            "119/119 - 0s - loss: 3460999.0000 - val_loss: 2282535.2500\n",
            "Epoch 89/600\n",
            "119/119 - 0s - loss: 3450665.0000 - val_loss: 2288668.5000\n",
            "Epoch 90/600\n",
            "119/119 - 0s - loss: 3459886.5000 - val_loss: 2281989.7500\n",
            "Epoch 91/600\n",
            "119/119 - 0s - loss: 3433798.2500 - val_loss: 2256969.5000\n",
            "Epoch 92/600\n",
            "119/119 - 0s - loss: 3463601.2500 - val_loss: 2283006.5000\n",
            "Epoch 93/600\n",
            "119/119 - 0s - loss: 3395518.0000 - val_loss: 2272050.2500\n",
            "Epoch 94/600\n",
            "119/119 - 0s - loss: 3420194.5000 - val_loss: 2260775.2500\n",
            "Epoch 95/600\n",
            "119/119 - 0s - loss: 3447651.7500 - val_loss: 2284646.5000\n",
            "Epoch 96/600\n",
            "119/119 - 0s - loss: 3434673.0000 - val_loss: 2279726.5000\n",
            "Epoch 97/600\n",
            "119/119 - 0s - loss: 3400111.2500 - val_loss: 2266138.7500\n",
            "Epoch 98/600\n",
            "119/119 - 0s - loss: 3407404.2500 - val_loss: 2260212.2500\n",
            "Epoch 99/600\n",
            "119/119 - 0s - loss: 3419884.7500 - val_loss: 2278275.7500\n",
            "Epoch 100/600\n",
            "119/119 - 0s - loss: 3425752.7500 - val_loss: 2268447.5000\n",
            "Epoch 101/600\n",
            "119/119 - 0s - loss: 3430388.2500 - val_loss: 2271033.0000\n",
            "Epoch 102/600\n",
            "119/119 - 0s - loss: 3404789.0000 - val_loss: 2262176.5000\n",
            "Epoch 103/600\n",
            "119/119 - 0s - loss: 3458363.0000 - val_loss: 2268390.2500\n",
            "Epoch 104/600\n",
            "119/119 - 0s - loss: 3427065.7500 - val_loss: 2266282.7500\n",
            "Epoch 105/600\n",
            "119/119 - 0s - loss: 3409848.5000 - val_loss: 2270656.0000\n",
            "Epoch 106/600\n",
            "119/119 - 0s - loss: 3454858.5000 - val_loss: 2272576.5000\n",
            "Epoch 107/600\n",
            "119/119 - 0s - loss: 3428535.5000 - val_loss: 2274110.5000\n",
            "Epoch 108/600\n",
            "119/119 - 0s - loss: 3437436.0000 - val_loss: 2268558.7500\n",
            "Epoch 109/600\n",
            "119/119 - 0s - loss: 3418821.2500 - val_loss: 2258536.5000\n",
            "Epoch 110/600\n",
            "119/119 - 0s - loss: 3431697.5000 - val_loss: 2265549.7500\n",
            "Epoch 111/600\n",
            "119/119 - 0s - loss: 3434103.7500 - val_loss: 2272227.5000\n",
            "Epoch 112/600\n",
            "119/119 - 0s - loss: 3414569.7500 - val_loss: 2266722.0000\n",
            "Epoch 113/600\n",
            "119/119 - 0s - loss: 3401245.0000 - val_loss: 2258443.2500\n",
            "Epoch 114/600\n",
            "119/119 - 0s - loss: 3431681.0000 - val_loss: 2271739.0000\n",
            "Epoch 115/600\n",
            "119/119 - 0s - loss: 3406329.2500 - val_loss: 2267529.2500\n",
            "Epoch 116/600\n",
            "119/119 - 0s - loss: 3399819.5000 - val_loss: 2276187.5000\n",
            "Epoch 00116: early stopping\n"
          ],
          "name": "stdout"
        },
        {
          "output_type": "execute_result",
          "data": {
            "text/plain": [
              "<tensorflow.python.keras.callbacks.History at 0x7fe7a8eae320>"
            ]
          },
          "metadata": {
            "tags": []
          },
          "execution_count": 63
        }
      ]
    },
    {
      "cell_type": "code",
      "metadata": {
        "colab": {
          "base_uri": "https://localhost:8080/"
        },
        "id": "CBhlnGOQ2Clp",
        "outputId": "2731677d-8b0f-4e76-990c-348a3c5235d7"
      },
      "source": [
        "np.sqrt(2276187.5000)"
      ],
      "execution_count": 66,
      "outputs": [
        {
          "output_type": "execute_result",
          "data": {
            "text/plain": [
              "1508.7039139605888"
            ]
          },
          "metadata": {
            "tags": []
          },
          "execution_count": 66
        }
      ]
    },
    {
      "cell_type": "code",
      "metadata": {
        "id": "9-9jc4PQ2X7a"
      },
      "source": [
        "losses=pd.DataFrame(model.history.history)"
      ],
      "execution_count": 69,
      "outputs": []
    },
    {
      "cell_type": "code",
      "metadata": {
        "colab": {
          "base_uri": "https://localhost:8080/",
          "height": 293
        },
        "id": "L7iKVRqf2fAa",
        "outputId": "45d24b5c-fd1e-4780-a6ff-b6494acf1ee2"
      },
      "source": [
        "losses.plot()"
      ],
      "execution_count": 71,
      "outputs": [
        {
          "output_type": "execute_result",
          "data": {
            "text/plain": [
              "<matplotlib.axes._subplots.AxesSubplot at 0x7fe7a82ff860>"
            ]
          },
          "metadata": {
            "tags": []
          },
          "execution_count": 71
        },
        {
          "output_type": "display_data",
          "data": {
            "image/png": "[encoded data removed]",
            "text/plain": [
              "<Figure size 432x288 with 1 Axes>"
            ]
          },
          "metadata": {
            "tags": [],
            "needs_background": "light"
          }
        }
      ]
    },
    {
      "cell_type": "code",
      "metadata": {
        "id": "FApcPZcH2rmM"
      },
      "source": [
        "predictions=model.predict(X_test)"
      ],
      "execution_count": 73,
      "outputs": []
    },
    {
      "cell_type": "code",
      "metadata": {
        "colab": {
          "base_uri": "https://localhost:8080/"
        },
        "id": "S8TFpXxD22DC",
        "outputId": "8248283e-0d0b-4fd6-e318-15e865569c22"
      },
      "source": [
        "from sklearn.metrics import mean_squared_log_error\r\n",
        "np.sqrt(mean_squared_log_error(y_test, predictions))"
      ],
      "execution_count": 76,
      "outputs": [
        {
          "output_type": "execute_result",
          "data": {
            "text/plain": [
              "1.8722619"
            ]
          },
          "metadata": {
            "tags": []
          },
          "execution_count": 76
        }
      ]
    },
    {
      "cell_type": "code",
      "metadata": {
        "colab": {
          "base_uri": "https://localhost:8080/",
          "height": 204
        },
        "id": "V4nctoDd3afo",
        "outputId": "b9e474b1-b342-42b5-fa9a-8d8383092d9d"
      },
      "source": [
        "#test_df.drop(['session_id','session_number','client_agent','device_details'],axis=1,inplace=True)\r\n",
        "test_df.head()"
      ],
      "execution_count": 92,
      "outputs": [
        {
          "output_type": "execute_result",
          "data": {
            "text/html": [
              "<div>\n",
              "<style scoped>\n",
              "    .dataframe tbody tr th:only-of-type {\n",
              "        vertical-align: middle;\n",
              "    }\n",
              "\n",
              "    .dataframe tbody tr th {\n",
              "        vertical-align: top;\n",
              "    }\n",
              "\n",
              "    .dataframe thead th {\n",
              "        text-align: right;\n",
              "    }\n",
              "</style>\n",
              "<table border=\"1\" class=\"dataframe\">\n",
              "  <thead>\n",
              "    <tr style=\"text-align: right;\">\n",
              "      <th></th>\n",
              "      <th>date</th>\n",
              "      <th>purchased</th>\n",
              "      <th>added_in_cart</th>\n",
              "      <th>checked_out</th>\n",
              "    </tr>\n",
              "  </thead>\n",
              "  <tbody>\n",
              "    <tr>\n",
              "      <th>0</th>\n",
              "      <td>2020-01-07</td>\n",
              "      <td>1</td>\n",
              "      <td>0</td>\n",
              "      <td>0</td>\n",
              "    </tr>\n",
              "    <tr>\n",
              "      <th>1</th>\n",
              "      <td>2020-02-13</td>\n",
              "      <td>0</td>\n",
              "      <td>0</td>\n",
              "      <td>0</td>\n",
              "    </tr>\n",
              "    <tr>\n",
              "      <th>2</th>\n",
              "      <td>2019-10-14</td>\n",
              "      <td>1</td>\n",
              "      <td>0</td>\n",
              "      <td>0</td>\n",
              "    </tr>\n",
              "    <tr>\n",
              "      <th>3</th>\n",
              "      <td>2020-01-26</td>\n",
              "      <td>0</td>\n",
              "      <td>0</td>\n",
              "      <td>0</td>\n",
              "    </tr>\n",
              "    <tr>\n",
              "      <th>4</th>\n",
              "      <td>2020-01-29</td>\n",
              "      <td>0</td>\n",
              "      <td>0</td>\n",
              "      <td>0</td>\n",
              "    </tr>\n",
              "  </tbody>\n",
              "</table>\n",
              "</div>"
            ],
            "text/plain": [
              "         date  purchased  added_in_cart  checked_out\n",
              "0  2020-01-07          1              0            0\n",
              "1  2020-02-13          0              0            0\n",
              "2  2019-10-14          1              0            0\n",
              "3  2020-01-26          0              0            0\n",
              "4  2020-01-29          0              0            0"
            ]
          },
          "metadata": {
            "tags": []
          },
          "execution_count": 92
        }
      ]
    },
    {
      "cell_type": "code",
      "metadata": {
        "id": "PWx6K5-q5a9V"
      },
      "source": [
        "test_df['date']=pd.to_datetime(test_df['date'])\r\n",
        "test_df['year']=test_df['date'].apply(lambda date:date.year)\r\n",
        "test_df['month']=test_df['date'].apply(lambda date:date.month)"
      ],
      "execution_count": 96,
      "outputs": []
    },
    {
      "cell_type": "code",
      "metadata": {
        "id": "iX8Q09Q35yn1"
      },
      "source": [
        "#test_df.drop('date',axis=1,inplace=True)\r\n",
        "A=test_df.values"
      ],
      "execution_count": 101,
      "outputs": []
    },
    {
      "cell_type": "code",
      "metadata": {
        "id": "4sedr6166Gml"
      },
      "source": [
        "time_shopping=model.predict(A)"
      ],
      "execution_count": 104,
      "outputs": []
    },
    {
      "cell_type": "code",
      "metadata": {
        "colab": {
          "base_uri": "https://localhost:8080/"
        },
        "id": "DUYk5jOI6WWx",
        "outputId": "0cf6f702-a467-466b-d372-73c83321e684"
      },
      "source": [
        "np.sqrt(mean_squared_log_error(y_test, predictions))"
      ],
      "execution_count": 105,
      "outputs": [
        {
          "output_type": "execute_result",
          "data": {
            "text/plain": [
              "1.8722619"
            ]
          },
          "metadata": {
            "tags": []
          },
          "execution_count": 105
        }
      ]
    },
    {
      "cell_type": "code",
      "metadata": {
        "id": "zx2tixet6eyF"
      },
      "source": [
        "submission=pd.DataFrame(time_shopping)"
      ],
      "execution_count": 107,
      "outputs": []
    },
    {
      "cell_type": "code",
      "metadata": {
        "id": "s2wW8pJk6lA0"
      },
      "source": [
        "submission.to_csv('my_submission_file.csv', index=False)"
      ],
      "execution_count": 109,
      "outputs": []
    }
  ]
}