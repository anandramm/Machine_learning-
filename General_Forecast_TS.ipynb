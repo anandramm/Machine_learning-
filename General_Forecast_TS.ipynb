{
  "nbformat": 4,
  "nbformat_minor": 0,
  "metadata": {
    "colab": {
      "name": "General_Forecast_TS.ipynb",
      "provenance": [],
      "collapsed_sections": [],
      "authorship_tag": "ABX9TyNcUjnXiEe8GFcx2ZDcd+5j",
      "include_colab_link": true
    },
    "kernelspec": {
      "name": "python3",
      "display_name": "Python 3"
    }
  },
  "cells": [
    {
      "cell_type": "markdown",
      "metadata": {
        "id": "view-in-github",
        "colab_type": "text"
      },
      "source": [
        "<a href=\"https://colab.research.google.com/github/anandramm/Machine_learning-/blob/master/General_Forecast_TS.ipynb\" target=\"_parent\"><img src=\"https://colab.research.google.com/assets/colab-badge.svg\" alt=\"Open In Colab\"/></a>"
      ]
    },
    {
      "cell_type": "code",
      "metadata": {
        "id": "GKpF34rIJbK-"
      },
      "source": [
        "import pandas as pd\r\n",
        "import numpy as np"
      ],
      "execution_count": null,
      "outputs": []
    },
    {
      "cell_type": "code",
      "metadata": {
        "id": "oQzvII_1LTmI"
      },
      "source": [
        "df=pd.read_csv('/content/airline_passengers.csv',index_col='Month',parse_dates=True)"
      ],
      "execution_count": null,
      "outputs": []
    },
    {
      "cell_type": "code",
      "metadata": {
        "colab": {
          "base_uri": "https://localhost:8080/"
        },
        "id": "7ZYlRIL_Ljb5",
        "outputId": "148466ea-eebb-4fa4-a04b-029a9f81589b"
      },
      "source": [
        "df.index"
      ],
      "execution_count": null,
      "outputs": [
        {
          "output_type": "execute_result",
          "data": {
            "text/plain": [
              "DatetimeIndex(['1949-01-01', '1949-02-01', '1949-03-01', '1949-04-01',\n",
              "               '1949-05-01', '1949-06-01', '1949-07-01', '1949-08-01',\n",
              "               '1949-09-01', '1949-10-01',\n",
              "               ...\n",
              "               '1960-03-01', '1960-04-01', '1960-05-01', '1960-06-01',\n",
              "               '1960-07-01', '1960-08-01', '1960-09-01', '1960-10-01',\n",
              "               '1960-11-01', '1960-12-01'],\n",
              "              dtype='datetime64[ns]', name='Month', length=144, freq=None)"
            ]
          },
          "metadata": {
            "tags": []
          },
          "execution_count": 3
        }
      ]
    },
    {
      "cell_type": "code",
      "metadata": {
        "id": "xYsbbHwwMEps"
      },
      "source": [
        "df.tail()\r\n",
        "df.asfreq(freq='MS')\r\n",
        "df.index.freq='MS'"
      ],
      "execution_count": null,
      "outputs": []
    },
    {
      "cell_type": "code",
      "metadata": {
        "id": "ocl22Nd8MGCz"
      },
      "source": [
        "train_df=df.iloc[:109]\r\n",
        "test_df=df.iloc[108:]"
      ],
      "execution_count": null,
      "outputs": []
    },
    {
      "cell_type": "code",
      "metadata": {
        "colab": {
          "base_uri": "https://localhost:8080/"
        },
        "id": "na25GI5NMco1",
        "outputId": "191e14e2-7fda-4f02-fc86-472843e12b39"
      },
      "source": [
        "from statsmodels.tsa.holtwinters import ExponentialSmoothing"
      ],
      "execution_count": null,
      "outputs": [
        {
          "output_type": "stream",
          "text": [
            "/usr/local/lib/python3.6/dist-packages/statsmodels/tools/_testing.py:19: FutureWarning: pandas.util.testing is deprecated. Use the functions in the public API at pandas.testing instead.\n",
            "  import pandas.util.testing as tm\n"
          ],
          "name": "stderr"
        }
      ]
    },
    {
      "cell_type": "code",
      "metadata": {
        "id": "js-Ps0bcNG-D"
      },
      "source": [
        "model=ExponentialSmoothing(train_df['Thousands of Passengers'],trend='mul',seasonal='mul',seasonal_periods=12)"
      ],
      "execution_count": null,
      "outputs": []
    },
    {
      "cell_type": "code",
      "metadata": {
        "id": "D13QNA0ON0eU"
      },
      "source": [
        "predict=model.fit()"
      ],
      "execution_count": null,
      "outputs": []
    },
    {
      "cell_type": "code",
      "metadata": {
        "id": "iCwI9mYIOLSP"
      },
      "source": [
        "predictions=predict.forecast(36)"
      ],
      "execution_count": null,
      "outputs": []
    },
    {
      "cell_type": "code",
      "metadata": {
        "id": "bPVSAs_UOOy1"
      },
      "source": [
        "from sklearn.metrics import mean_squared_error"
      ],
      "execution_count": null,
      "outputs": []
    },
    {
      "cell_type": "code",
      "metadata": {
        "colab": {
          "base_uri": "https://localhost:8080/"
        },
        "id": "gQ6UxD4GaWcn",
        "outputId": "d5a7e191-fb97-481a-b14d-47ecd32314e0"
      },
      "source": [
        "np.sqrt(mean_squared_error(predictions,test_df))"
      ],
      "execution_count": null,
      "outputs": [
        {
          "output_type": "execute_result",
          "data": {
            "text/plain": [
              "74.92943823976594"
            ]
          },
          "metadata": {
            "tags": []
          },
          "execution_count": 11
        }
      ]
    },
    {
      "cell_type": "markdown",
      "metadata": {
        "id": "-67wr_hwg_sm"
      },
      "source": [
        "ACF and PACF"
      ]
    },
    {
      "cell_type": "code",
      "metadata": {
        "id": "WFh_o2NsamCC",
        "colab": {
          "base_uri": "https://localhost:8080/"
        },
        "outputId": "e3332cd3-157d-4398-fab8-a671055be6b8"
      },
      "source": [
        "import pandas as pd\r\n",
        "import numpy as np\r\n",
        "import statsmodels.api as sm\r\n",
        "from statsmodels.tsa.stattools import acovf,acf,pacf,pacf_yw,pacf_ols "
      ],
      "execution_count": 1,
      "outputs": [
        {
          "output_type": "stream",
          "text": [
            "/usr/local/lib/python3.6/dist-packages/statsmodels/tools/_testing.py:19: FutureWarning: pandas.util.testing is deprecated. Use the functions in the public API at pandas.testing instead.\n",
            "  import pandas.util.testing as tm\n"
          ],
          "name": "stderr"
        }
      ]
    },
    {
      "cell_type": "markdown",
      "metadata": {
        "id": "wZ5ek7FrJHEa"
      },
      "source": [
        "Importing Non Stationary Data"
      ]
    },
    {
      "cell_type": "code",
      "metadata": {
        "id": "QQo9m-BiIdoc"
      },
      "source": [
        "dfn=pd.read_csv('/content/airline_passengers.csv',index_col='Month',parse_dates=True)\r\n",
        "dfn.index.freq='MS'"
      ],
      "execution_count": 10,
      "outputs": []
    },
    {
      "cell_type": "markdown",
      "metadata": {
        "id": "C13NsVD_KNJi"
      },
      "source": [
        "Importing Stationary Data"
      ]
    },
    {
      "cell_type": "code",
      "metadata": {
        "id": "IKUcBhaWJ6-f"
      },
      "source": [
        "dfs=pd.read_csv('/content/DailyTotalFemaleBirths.csv',index_col='Date',parse_dates=True)"
      ],
      "execution_count": 11,
      "outputs": []
    },
    {
      "cell_type": "code",
      "metadata": {
        "colab": {
          "base_uri": "https://localhost:8080/"
        },
        "id": "aNvMbOodKLAj",
        "outputId": "90d39207-7c93-4fdf-e487-4690e234be6a"
      },
      "source": [
        "dfs.index"
      ],
      "execution_count": 12,
      "outputs": [
        {
          "output_type": "execute_result",
          "data": {
            "text/plain": [
              "DatetimeIndex(['1959-01-01', '1959-01-02', '1959-01-03', '1959-01-04',\n",
              "               '1959-01-05', '1959-01-06', '1959-01-07', '1959-01-08',\n",
              "               '1959-01-09', '1959-01-10',\n",
              "               ...\n",
              "               '1959-12-22', '1959-12-23', '1959-12-24', '1959-12-25',\n",
              "               '1959-12-26', '1959-12-27', '1959-12-28', '1959-12-29',\n",
              "               '1959-12-30', '1959-12-31'],\n",
              "              dtype='datetime64[ns]', name='Date', length=365, freq=None)"
            ]
          },
          "metadata": {
            "tags": []
          },
          "execution_count": 12
        }
      ]
    },
    {
      "cell_type": "code",
      "metadata": {
        "id": "4RaKfO0cKL3v"
      },
      "source": [
        "dfs.index.freq='D'"
      ],
      "execution_count": 13,
      "outputs": []
    },
    {
      "cell_type": "code",
      "metadata": {
        "id": "ZsMpB2KPKTO5"
      },
      "source": [
        "from pandas.plotting import lag_plot"
      ],
      "execution_count": 14,
      "outputs": []
    },
    {
      "cell_type": "code",
      "metadata": {
        "colab": {
          "base_uri": "https://localhost:8080/",
          "height": 296
        },
        "id": "ht11hQiVQNP8",
        "outputId": "51c2654b-fa91-41c6-fe05-42c4cc5bd00e"
      },
      "source": [
        "lag_plot(dfn['Thousands of Passengers'])"
      ],
      "execution_count": 15,
      "outputs": [
        {
          "output_type": "execute_result",
          "data": {
            "text/plain": [
              "<matplotlib.axes._subplots.AxesSubplot at 0x7f32e34e84a8>"
            ]
          },
          "metadata": {
            "tags": []
          },
          "execution_count": 15
        },
        {
          "output_type": "display_data",
          "data": {
            "image/png": "[encoded data removed]",
            "text/plain": [
              "<Figure size 432x288 with 1 Axes>"
            ]
          },
          "metadata": {
            "tags": [],
            "needs_background": "light"
          }
        }
      ]
    },
    {
      "cell_type": "code",
      "metadata": {
        "colab": {
          "base_uri": "https://localhost:8080/",
          "height": 296
        },
        "id": "mtZKcKBPQd1_",
        "outputId": "463944d2-7738-42ab-e5ec-1605e5fd8d4c"
      },
      "source": [
        "lag_plot(dfs['Births'])"
      ],
      "execution_count": 16,
      "outputs": [
        {
          "output_type": "execute_result",
          "data": {
            "text/plain": [
              "<matplotlib.axes._subplots.AxesSubplot at 0x7f32e347edd8>"
            ]
          },
          "metadata": {
            "tags": []
          },
          "execution_count": 16
        },
        {
          "output_type": "display_data",
          "data": {
            "image/png": "[encoded data removed]",
            "text/plain": [
              "<Figure size 432x288 with 1 Axes>"
            ]
          },
          "metadata": {
            "tags": [],
            "needs_background": "light"
          }
        }
      ]
    },
    {
      "cell_type": "code",
      "metadata": {
        "id": "RUAsJhijR6Yz"
      },
      "source": [
        "from statsmodels.graphics.tsaplots import plot_acf,plot_pacf"
      ],
      "execution_count": 17,
      "outputs": []
    },
    {
      "cell_type": "code",
      "metadata": {
        "colab": {
          "base_uri": "https://localhost:8080/",
          "height": 281
        },
        "id": "O7sZlsiuSIRh",
        "outputId": "536f6ea1-1d6e-4082-e3a1-1fd904ab3986"
      },
      "source": [
        "plot_acf(dfn,lags=40);"
      ],
      "execution_count": 19,
      "outputs": [
        {
          "output_type": "display_data",
          "data": {
            "image/png": "[encoded data removed]",
            "text/plain": [
              "<Figure size 432x288 with 1 Axes>"
            ]
          },
          "metadata": {
            "tags": [],
            "needs_background": "light"
          }
        }
      ]
    },
    {
      "cell_type": "markdown",
      "metadata": {
        "id": "IT1lclpOj-cN"
      },
      "source": [
        "Auto Regression Model"
      ]
    },
    {
      "cell_type": "code",
      "metadata": {
        "colab": {
          "base_uri": "https://localhost:8080/"
        },
        "id": "oCcxFhKnSN7d",
        "outputId": "e43a4e04-14c1-45bd-b82a-5a8e8b955e9c"
      },
      "source": [
        "#importing the necessary libraries\r\n",
        "import pandas as pd\r\n",
        "import numpy as np\r\n",
        "from statsmodels.tsa.ar_model import AR,ARResults"
      ],
      "execution_count": 1,
      "outputs": [
        {
          "output_type": "stream",
          "text": [
            "/usr/local/lib/python3.6/dist-packages/statsmodels/tools/_testing.py:19: FutureWarning: pandas.util.testing is deprecated. Use the functions in the public API at pandas.testing instead.\n",
            "  import pandas.util.testing as tm\n"
          ],
          "name": "stderr"
        }
      ]
    },
    {
      "cell_type": "code",
      "metadata": {
        "id": "H9FqfmEOpZl-"
      },
      "source": [
        "df=pd.read_csv('/content/uspopulation.csv',index_col='DATE',parse_dates=True)\r\n",
        "df.index.freq='MS'"
      ],
      "execution_count": 2,
      "outputs": []
    },
    {
      "cell_type": "code",
      "metadata": {
        "colab": {
          "base_uri": "https://localhost:8080/",
          "height": 296
        },
        "id": "T4GG32H1pnnY",
        "outputId": "6cbf9252-1899-44f6-e5a5-b31a72d0cce2"
      },
      "source": [
        "df.plot()"
      ],
      "execution_count": 3,
      "outputs": [
        {
          "output_type": "execute_result",
          "data": {
            "text/plain": [
              "<matplotlib.axes._subplots.AxesSubplot at 0x7fafbc548978>"
            ]
          },
          "metadata": {
            "tags": []
          },
          "execution_count": 3
        },
        {
          "output_type": "display_data",
          "data": {
            "image/png": "[encoded data removed]",
            "text/plain": [
              "<Figure size 432x288 with 1 Axes>"
            ]
          },
          "metadata": {
            "tags": [],
            "needs_background": "light"
          }
        }
      ]
    },
    {
      "cell_type": "code",
      "metadata": {
        "id": "VO3TgznFps9g"
      },
      "source": [
        "train_data=df.iloc[:84]"
      ],
      "execution_count": 4,
      "outputs": []
    },
    {
      "cell_type": "code",
      "metadata": {
        "id": "Mgg_8tU5rLFg"
      },
      "source": [
        "test_data=df.iloc[84:]"
      ],
      "execution_count": 5,
      "outputs": []
    },
    {
      "cell_type": "code",
      "metadata": {
        "colab": {
          "base_uri": "https://localhost:8080/",
          "height": 235
        },
        "id": "8YxsVlLKrOH8",
        "outputId": "f12c7405-b601-403f-e588-145fa7333d0e"
      },
      "source": [
        "train_data.tail()"
      ],
      "execution_count": 6,
      "outputs": [
        {
          "output_type": "execute_result",
          "data": {
            "text/html": [
              "<div>\n",
              "<style scoped>\n",
              "    .dataframe tbody tr th:only-of-type {\n",
              "        vertical-align: middle;\n",
              "    }\n",
              "\n",
              "    .dataframe tbody tr th {\n",
              "        vertical-align: top;\n",
              "    }\n",
              "\n",
              "    .dataframe thead th {\n",
              "        text-align: right;\n",
              "    }\n",
              "</style>\n",
              "<table border=\"1\" class=\"dataframe\">\n",
              "  <thead>\n",
              "    <tr style=\"text-align: right;\">\n",
              "      <th></th>\n",
              "      <th>PopEst</th>\n",
              "    </tr>\n",
              "    <tr>\n",
              "      <th>DATE</th>\n",
              "      <th></th>\n",
              "    </tr>\n",
              "  </thead>\n",
              "  <tbody>\n",
              "    <tr>\n",
              "      <th>2017-08-01</th>\n",
              "      <td>325667</td>\n",
              "    </tr>\n",
              "    <tr>\n",
              "      <th>2017-09-01</th>\n",
              "      <td>325866</td>\n",
              "    </tr>\n",
              "    <tr>\n",
              "      <th>2017-10-01</th>\n",
              "      <td>326054</td>\n",
              "    </tr>\n",
              "    <tr>\n",
              "      <th>2017-11-01</th>\n",
              "      <td>326222</td>\n",
              "    </tr>\n",
              "    <tr>\n",
              "      <th>2017-12-01</th>\n",
              "      <td>326378</td>\n",
              "    </tr>\n",
              "  </tbody>\n",
              "</table>\n",
              "</div>"
            ],
            "text/plain": [
              "            PopEst\n",
              "DATE              \n",
              "2017-08-01  325667\n",
              "2017-09-01  325866\n",
              "2017-10-01  326054\n",
              "2017-11-01  326222\n",
              "2017-12-01  326378"
            ]
          },
          "metadata": {
            "tags": []
          },
          "execution_count": 6
        }
      ]
    },
    {
      "cell_type": "code",
      "metadata": {
        "colab": {
          "base_uri": "https://localhost:8080/",
          "height": 235
        },
        "id": "vuOnLLhqrPsi",
        "outputId": "bb8ae401-938d-4ccf-df3e-10fbafb5dbbf"
      },
      "source": [
        "test_data.head()"
      ],
      "execution_count": 7,
      "outputs": [
        {
          "output_type": "execute_result",
          "data": {
            "text/html": [
              "<div>\n",
              "<style scoped>\n",
              "    .dataframe tbody tr th:only-of-type {\n",
              "        vertical-align: middle;\n",
              "    }\n",
              "\n",
              "    .dataframe tbody tr th {\n",
              "        vertical-align: top;\n",
              "    }\n",
              "\n",
              "    .dataframe thead th {\n",
              "        text-align: right;\n",
              "    }\n",
              "</style>\n",
              "<table border=\"1\" class=\"dataframe\">\n",
              "  <thead>\n",
              "    <tr style=\"text-align: right;\">\n",
              "      <th></th>\n",
              "      <th>PopEst</th>\n",
              "    </tr>\n",
              "    <tr>\n",
              "      <th>DATE</th>\n",
              "      <th></th>\n",
              "    </tr>\n",
              "  </thead>\n",
              "  <tbody>\n",
              "    <tr>\n",
              "      <th>2018-01-01</th>\n",
              "      <td>326527</td>\n",
              "    </tr>\n",
              "    <tr>\n",
              "      <th>2018-02-01</th>\n",
              "      <td>326669</td>\n",
              "    </tr>\n",
              "    <tr>\n",
              "      <th>2018-03-01</th>\n",
              "      <td>326812</td>\n",
              "    </tr>\n",
              "    <tr>\n",
              "      <th>2018-04-01</th>\n",
              "      <td>326968</td>\n",
              "    </tr>\n",
              "    <tr>\n",
              "      <th>2018-05-01</th>\n",
              "      <td>327134</td>\n",
              "    </tr>\n",
              "  </tbody>\n",
              "</table>\n",
              "</div>"
            ],
            "text/plain": [
              "            PopEst\n",
              "DATE              \n",
              "2018-01-01  326527\n",
              "2018-02-01  326669\n",
              "2018-03-01  326812\n",
              "2018-04-01  326968\n",
              "2018-05-01  327134"
            ]
          },
          "metadata": {
            "tags": []
          },
          "execution_count": 7
        }
      ]
    },
    {
      "cell_type": "code",
      "metadata": {
        "id": "inS08wA7rRaq"
      },
      "source": [
        "model=AR(train_data['PopEst'])"
      ],
      "execution_count": 8,
      "outputs": []
    },
    {
      "cell_type": "code",
      "metadata": {
        "id": "5hKYEvRzsnea"
      },
      "source": [
        "AR1fit=model.fit(maxlag=1)"
      ],
      "execution_count": 9,
      "outputs": []
    },
    {
      "cell_type": "code",
      "metadata": {
        "colab": {
          "base_uri": "https://localhost:8080/"
        },
        "id": "S0LCcLrctAd_",
        "outputId": "4067ca97-2877-4611-fc75-eaf37e1a6c86"
      },
      "source": [
        "AR1fit.aic"
      ],
      "execution_count": 10,
      "outputs": [
        {
          "output_type": "execute_result",
          "data": {
            "text/plain": [
              "6.410771237031904"
            ]
          },
          "metadata": {
            "tags": []
          },
          "execution_count": 10
        }
      ]
    },
    {
      "cell_type": "code",
      "metadata": {
        "colab": {
          "base_uri": "https://localhost:8080/"
        },
        "id": "ailcWLxLtD5f",
        "outputId": "f3bab6b1-b20f-4021-b418-70cbedd1c967"
      },
      "source": [
        "AR1fit.bic"
      ],
      "execution_count": 11,
      "outputs": [
        {
          "output_type": "execute_result",
          "data": {
            "text/plain": [
              "6.498199210807685"
            ]
          },
          "metadata": {
            "tags": []
          },
          "execution_count": 11
        }
      ]
    },
    {
      "cell_type": "code",
      "metadata": {
        "colab": {
          "base_uri": "https://localhost:8080/"
        },
        "id": "IKbB9eQPtF1k",
        "outputId": "2d4785ae-7baa-4dd6-8c33-f6b37f904b4e"
      },
      "source": [
        "AR1fit.params"
      ],
      "execution_count": 12,
      "outputs": [
        {
          "output_type": "execute_result",
          "data": {
            "text/plain": [
              "const        284.913797\n",
              "L1.PopEst      0.999686\n",
              "dtype: float64"
            ]
          },
          "metadata": {
            "tags": []
          },
          "execution_count": 12
        }
      ]
    },
    {
      "cell_type": "code",
      "metadata": {
        "id": "iGHP7qDjtXhi"
      },
      "source": [
        "start=len(train_data)\r\n",
        "end=len(train_data)+len(test_data)-1"
      ],
      "execution_count": 13,
      "outputs": []
    },
    {
      "cell_type": "code",
      "metadata": {
        "id": "aCpQyoFJuSm8"
      },
      "source": [
        "predictions=AR1fit.predict(start=start,end=end)"
      ],
      "execution_count": 14,
      "outputs": []
    },
    {
      "cell_type": "code",
      "metadata": {
        "colab": {
          "base_uri": "https://localhost:8080/"
        },
        "id": "UTrXEgCoueVV",
        "outputId": "9ac2d51b-1a0a-4ccc-bd69-907514af1b96"
      },
      "source": [
        "predictions.rename('AR1_predictions')"
      ],
      "execution_count": 15,
      "outputs": [
        {
          "output_type": "execute_result",
          "data": {
            "text/plain": [
              "2018-01-01    326560.403377\n",
              "2018-02-01    326742.749463\n",
              "2018-03-01    326925.038278\n",
              "2018-04-01    327107.269838\n",
              "2018-05-01    327289.444162\n",
              "2018-06-01    327471.561268\n",
              "2018-07-01    327653.621173\n",
              "2018-08-01    327835.623896\n",
              "2018-09-01    328017.569455\n",
              "2018-10-01    328199.457868\n",
              "2018-11-01    328381.289152\n",
              "2018-12-01    328563.063326\n",
              "Freq: MS, Name: AR1_predictions, dtype: float64"
            ]
          },
          "metadata": {
            "tags": []
          },
          "execution_count": 15
        }
      ]
    },
    {
      "cell_type": "code",
      "metadata": {
        "colab": {
          "base_uri": "https://localhost:8080/",
          "height": 308
        },
        "id": "JnY57xGKvJmU",
        "outputId": "a2002ea5-396e-4cdc-c917-47821a21ab59"
      },
      "source": [
        "test_data.plot(legend=True)\r\n",
        "predictions.plot(legend=True)"
      ],
      "execution_count": 16,
      "outputs": [
        {
          "output_type": "execute_result",
          "data": {
            "text/plain": [
              "<matplotlib.axes._subplots.AxesSubplot at 0x7fafbbecef98>"
            ]
          },
          "metadata": {
            "tags": []
          },
          "execution_count": 16
        },
        {
          "output_type": "display_data",
          "data": {
            "image/png": "[encoded data removed]",
            "text/plain": [
              "<Figure size 432x288 with 1 Axes>"
            ]
          },
          "metadata": {
            "tags": [],
            "needs_background": "light"
          }
        }
      ]
    },
    {
      "cell_type": "code",
      "metadata": {
        "id": "_1wOUff_vYoq"
      },
      "source": [
        "AR3fit=model.fit(maxlag=3)"
      ],
      "execution_count": 17,
      "outputs": []
    },
    {
      "cell_type": "code",
      "metadata": {
        "colab": {
          "base_uri": "https://localhost:8080/"
        },
        "id": "bLJkC2jWUvVT",
        "outputId": "be76ac76-df92-482c-e5b2-0746a1698583"
      },
      "source": [
        "AR3fit.params"
      ],
      "execution_count": 19,
      "outputs": [
        {
          "output_type": "execute_result",
          "data": {
            "text/plain": [
              "const        91.742944\n",
              "L1.PopEst     2.589781\n",
              "L2.PopEst    -2.435443\n",
              "L3.PopEst     0.845522\n",
              "dtype: float64"
            ]
          },
          "metadata": {
            "tags": []
          },
          "execution_count": 19
        }
      ]
    },
    {
      "cell_type": "code",
      "metadata": {
        "id": "MWcyj1bpUzm6"
      },
      "source": [
        "predictions3=AR3fit.predict(start=start,end=end)"
      ],
      "execution_count": 21,
      "outputs": []
    },
    {
      "cell_type": "code",
      "metadata": {
        "colab": {
          "base_uri": "https://localhost:8080/",
          "height": 308
        },
        "id": "zj_dJI_4U-oz",
        "outputId": "08937cc6-f6c5-4df7-86e9-94dd560d6478"
      },
      "source": [
        "test_data.plot(legend=True)\r\n",
        "predictions.plot(legend=True)\r\n",
        "predictions3.plot(legend=True)\r\n",
        "predictions8.plot(legend=True)"
      ],
      "execution_count": 28,
      "outputs": [
        {
          "output_type": "execute_result",
          "data": {
            "text/plain": [
              "<matplotlib.axes._subplots.AxesSubplot at 0x7fafabdd02e8>"
            ]
          },
          "metadata": {
            "tags": []
          },
          "execution_count": 28
        },
        {
          "output_type": "display_data",
          "data": {
            "image/png": "[encoded data removed]",
            "text/plain": [
              "<Figure size 432x288 with 1 Axes>"
            ]
          },
          "metadata": {
            "tags": [],
            "needs_background": "light"
          }
        }
      ]
    },
    {
      "cell_type": "code",
      "metadata": {
        "id": "ll40WLisVIZd"
      },
      "source": [
        "model=AR(df['PopEst'])"
      ],
      "execution_count": 23,
      "outputs": []
    },
    {
      "cell_type": "code",
      "metadata": {
        "id": "YC24Vnbqc7Qw"
      },
      "source": [
        "AR8fit=model.fit(ic='t-stat')"
      ],
      "execution_count": 25,
      "outputs": []
    },
    {
      "cell_type": "code",
      "metadata": {
        "id": "cqWN5WXAdN9r"
      },
      "source": [
        "predictions8=AR8fit.predict(start=len(df),end=len(df)+12)"
      ],
      "execution_count": 27,
      "outputs": []
    },
    {
      "cell_type": "code",
      "metadata": {
        "id": "NHBRNq8HdZVW"
      },
      "source": [
        ""
      ],
      "execution_count": null,
      "outputs": []
    }
  ]
}